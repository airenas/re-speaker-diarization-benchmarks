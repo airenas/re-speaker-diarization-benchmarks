{
 "cells": [
  {
   "cell_type": "code",
   "execution_count": null,
   "id": "4f7a78ce-b4f4-42a1-82d9-9143ec8a0be7",
   "metadata": {},
   "outputs": [],
   "source": [
    "from pyannote.core import Segment\n",
    "file=\"831515006217200\"\n",
    "segment = Segment(475, 520)"
   ]
  },
  {
   "cell_type": "code",
   "execution_count": null,
   "id": "13d71c2d-c646-4fe9-81fd-2df81efbadd2",
   "metadata": {},
   "outputs": [],
   "source": [
    "from pyannote.core import Segment, notebook\n",
    "from pyannote.database.util import load_rttm\n",
    "_, groundtruth = load_rttm(f'corpus/audio/{file}.rttm').popitem()\n",
    "notebook.crop = None\n",
    "# visualize groundtruth\n",
    "groundtruth"
   ]
  },
  {
   "cell_type": "code",
   "execution_count": null,
   "id": "b31da1ba-96fc-4323-99db-29a178a518c1",
   "metadata": {
    "scrolled": true
   },
   "outputs": [],
   "source": [
    "_, groundtruth = load_rttm(f'work-2s/pyannote/{file}.rttm').popitem()\n",
    "notebook.crop = None\n",
    "groundtruth"
   ]
  },
  {
   "cell_type": "code",
   "execution_count": null,
   "id": "63d7a6b3-9e70-497b-9c97-cd2a7f8a68eb",
   "metadata": {},
   "outputs": [],
   "source": [
    "_, groundtruth = load_rttm(f'work-2s-3.1/pyannote/{file}.rttm').popitem()\n",
    "notebook.crop = None\n",
    "groundtruth"
   ]
  },
  {
   "cell_type": "code",
   "execution_count": null,
   "id": "62add423-9598-4ad7-b9a5-bca9b07b5047",
   "metadata": {},
   "outputs": [],
   "source": [
    "_, groundtruth = load_rttm(f'work-auto/pyannote/{file}.rttm').popitem()\n",
    "notebook.crop = None\n",
    "groundtruth"
   ]
  },
  {
   "cell_type": "code",
   "execution_count": null,
   "id": "79e2a95a-68d8-47bf-8172-674b89374b51",
   "metadata": {},
   "outputs": [],
   "source": [
    "import IPython\n",
    "from pydub import AudioSegment\n",
    "audio = AudioSegment.from_wav(f'corpus/audio/{file}.wav')\n",
    "# print(segment.start, segment.end)\n",
    "# print(segment)\n",
    "# t1 = segment.start * 1000\n",
    "# t2 = segment.end * 1000\n",
    "# audio = audio[t1:t2]\n",
    "audio.export(\"test_clip.wav\", format='wav')\n",
    "IPython.display.Audio(\"test_clip.wav\")"
   ]
  }
 ],
 "metadata": {
  "kernelspec": {
   "display_name": "Python 3 (ipykernel)",
   "language": "python",
   "name": "python3"
  },
  "language_info": {
   "codemirror_mode": {
    "name": "ipython",
    "version": 3
   },
   "file_extension": ".py",
   "mimetype": "text/x-python",
   "name": "python",
   "nbconvert_exporter": "python",
   "pygments_lexer": "ipython3",
   "version": "3.10.13"
  }
 },
 "nbformat": 4,
 "nbformat_minor": 5
}
